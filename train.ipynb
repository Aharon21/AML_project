{
 "cells": [
  {
   "cell_type": "code",
   "execution_count": null,
   "metadata": {},
   "outputs": [],
   "source": [
    "pip install --upgrade yfinance"
   ]
  },
  {
   "cell_type": "code",
   "execution_count": null,
   "metadata": {},
   "outputs": [],
   "source": [
    "import yfinance as yf\n",
    "import pandas as pd\n",
    "\n",
    "# Define the stock symbol and time period\n",
    "stock_symbol = \"AMZN\"\n",
    "start_date = \"2022-01-01\"\n",
    "end_date = \"2023-01-01\"\n",
    "\n",
    "# Download historical stock data\n",
    "stock_data = yf.download(stock_symbol, start=start_date, end=end_date)\n",
    "\n",
    "# Print the first few rows of the data\n",
    "print(stock_data.head())"
   ]
  },
  {
   "cell_type": "code",
   "execution_count": 7,
   "metadata": {},
   "outputs": [],
   "source": [
    "US_stocks=pd.read_csv('/Users/elbezaharon/Desktop/3A ENSAE/AML/Project/Data/nasdaq_screener_1701944424423.csv')\n",
    "US_stocks_tickets=list(US_stocks[US_stocks['Market Cap']>20000000000]['Symbol'])"
   ]
  },
  {
   "cell_type": "code",
   "execution_count": 8,
   "metadata": {},
   "outputs": [
    {
     "data": {
      "text/plain": [
       "502"
      ]
     },
     "execution_count": 8,
     "metadata": {},
     "output_type": "execute_result"
    }
   ],
   "source": [
    "len(US_stocks_tickets)"
   ]
  },
  {
   "cell_type": "code",
   "execution_count": 9,
   "metadata": {},
   "outputs": [
    {
     "ename": "KeyboardInterrupt",
     "evalue": "",
     "output_type": "error",
     "traceback": [
      "\u001b[0;31m---------------------------------------------------------------------------\u001b[0m",
      "\u001b[0;31mKeyboardInterrupt\u001b[0m                         Traceback (most recent call last)",
      "\u001b[1;32m/Users/elbezaharon/Desktop/3A ENSAE/AML/Project/Implementation/train.ipynb Cell 7'\u001b[0m in \u001b[0;36m<cell line: 7>\u001b[0;34m()\u001b[0m\n\u001b[1;32m      <a href='vscode-notebook-cell:/Users/elbezaharon/Desktop/3A%20ENSAE/AML/Project/Implementation/train.ipynb#ch0000008?line=5'>6</a>\u001b[0m dfs\u001b[39m=\u001b[39m[empty_df]\n\u001b[1;32m      <a href='vscode-notebook-cell:/Users/elbezaharon/Desktop/3A%20ENSAE/AML/Project/Implementation/train.ipynb#ch0000008?line=6'>7</a>\u001b[0m \u001b[39mfor\u001b[39;00m symbol \u001b[39min\u001b[39;00m US_stocks_tickets:\n\u001b[1;32m      <a href='vscode-notebook-cell:/Users/elbezaharon/Desktop/3A%20ENSAE/AML/Project/Implementation/train.ipynb#ch0000008?line=7'>8</a>\u001b[0m \n\u001b[1;32m      <a href='vscode-notebook-cell:/Users/elbezaharon/Desktop/3A%20ENSAE/AML/Project/Implementation/train.ipynb#ch0000008?line=8'>9</a>\u001b[0m \u001b[39m# Make API request\u001b[39;00m\n\u001b[0;32m---> <a href='vscode-notebook-cell:/Users/elbezaharon/Desktop/3A%20ENSAE/AML/Project/Implementation/train.ipynb#ch0000008?line=9'>10</a>\u001b[0m     data \u001b[39m=\u001b[39m pd\u001b[39m.\u001b[39mDataFrame(yf\u001b[39m.\u001b[39;49mdownload(symbol, start\u001b[39m=\u001b[39;49m\u001b[39m'\u001b[39;49m\u001b[39m2013-01-01\u001b[39;49m\u001b[39m'\u001b[39;49m, end\u001b[39m=\u001b[39;49m\u001b[39m'\u001b[39;49m\u001b[39m2023-11-21\u001b[39;49m\u001b[39m'\u001b[39;49m, interval\u001b[39m=\u001b[39;49m\u001b[39m'\u001b[39;49m\u001b[39m1d\u001b[39;49m\u001b[39m'\u001b[39;49m))\n\u001b[1;32m     <a href='vscode-notebook-cell:/Users/elbezaharon/Desktop/3A%20ENSAE/AML/Project/Implementation/train.ipynb#ch0000008?line=10'>11</a>\u001b[0m     \u001b[39mif\u001b[39;00m \u001b[39mnot\u001b[39;00m data\u001b[39m.\u001b[39mempty:\n\u001b[1;32m     <a href='vscode-notebook-cell:/Users/elbezaharon/Desktop/3A%20ENSAE/AML/Project/Implementation/train.ipynb#ch0000008?line=11'>12</a>\u001b[0m         df\u001b[39m=\u001b[39mdata\u001b[39m.\u001b[39mrename(columns\u001b[39m=\u001b[39m{\u001b[39m'\u001b[39m\u001b[39mAdj Close\u001b[39m\u001b[39m'\u001b[39m:\u001b[39mf\u001b[39m\u001b[39m'\u001b[39m\u001b[39m{\u001b[39;00msymbol\u001b[39m}\u001b[39;00m\u001b[39m'\u001b[39m})\n",
      "File \u001b[0;32m/Library/Frameworks/Python.framework/Versions/3.9/lib/python3.9/site-packages/yfinance/utils.py:108\u001b[0m, in \u001b[0;36mlog_indent_decorator.<locals>.wrapper\u001b[0;34m(*args, **kwargs)\u001b[0m\n\u001b[1;32m    <a href='file:///Library/Frameworks/Python.framework/Versions/3.9/lib/python3.9/site-packages/yfinance/utils.py?line=104'>105</a>\u001b[0m logger\u001b[39m.\u001b[39mdebug(\u001b[39mf\u001b[39m\u001b[39m'\u001b[39m\u001b[39mEntering \u001b[39m\u001b[39m{\u001b[39;00mfunc\u001b[39m.\u001b[39m\u001b[39m__name__\u001b[39m\u001b[39m}\u001b[39;00m\u001b[39m()\u001b[39m\u001b[39m'\u001b[39m)\n\u001b[1;32m    <a href='file:///Library/Frameworks/Python.framework/Versions/3.9/lib/python3.9/site-packages/yfinance/utils.py?line=106'>107</a>\u001b[0m \u001b[39mwith\u001b[39;00m IndentationContext():\n\u001b[0;32m--> <a href='file:///Library/Frameworks/Python.framework/Versions/3.9/lib/python3.9/site-packages/yfinance/utils.py?line=107'>108</a>\u001b[0m     result \u001b[39m=\u001b[39m func(\u001b[39m*\u001b[39;49margs, \u001b[39m*\u001b[39;49m\u001b[39m*\u001b[39;49mkwargs)\n\u001b[1;32m    <a href='file:///Library/Frameworks/Python.framework/Versions/3.9/lib/python3.9/site-packages/yfinance/utils.py?line=109'>110</a>\u001b[0m logger\u001b[39m.\u001b[39mdebug(\u001b[39mf\u001b[39m\u001b[39m'\u001b[39m\u001b[39mExiting \u001b[39m\u001b[39m{\u001b[39;00mfunc\u001b[39m.\u001b[39m\u001b[39m__name__\u001b[39m\u001b[39m}\u001b[39;00m\u001b[39m()\u001b[39m\u001b[39m'\u001b[39m)\n\u001b[1;32m    <a href='file:///Library/Frameworks/Python.framework/Versions/3.9/lib/python3.9/site-packages/yfinance/utils.py?line=110'>111</a>\u001b[0m \u001b[39mreturn\u001b[39;00m result\n",
      "File \u001b[0;32m/Library/Frameworks/Python.framework/Versions/3.9/lib/python3.9/site-packages/yfinance/multi.py:163\u001b[0m, in \u001b[0;36mdownload\u001b[0;34m(tickers, start, end, actions, threads, ignore_tz, group_by, auto_adjust, back_adjust, repair, keepna, progress, period, show_errors, interval, prepost, proxy, rounding, timeout, session)\u001b[0m\n\u001b[1;32m    <a href='file:///Library/Frameworks/Python.framework/Versions/3.9/lib/python3.9/site-packages/yfinance/multi.py?line=155'>156</a>\u001b[0m         _download_one_threaded(ticker, period\u001b[39m=\u001b[39mperiod, interval\u001b[39m=\u001b[39minterval,\n\u001b[1;32m    <a href='file:///Library/Frameworks/Python.framework/Versions/3.9/lib/python3.9/site-packages/yfinance/multi.py?line=156'>157</a>\u001b[0m                                start\u001b[39m=\u001b[39mstart, end\u001b[39m=\u001b[39mend, prepost\u001b[39m=\u001b[39mprepost,\n\u001b[1;32m    <a href='file:///Library/Frameworks/Python.framework/Versions/3.9/lib/python3.9/site-packages/yfinance/multi.py?line=157'>158</a>\u001b[0m                                actions\u001b[39m=\u001b[39mactions, auto_adjust\u001b[39m=\u001b[39mauto_adjust,\n\u001b[1;32m    <a href='file:///Library/Frameworks/Python.framework/Versions/3.9/lib/python3.9/site-packages/yfinance/multi.py?line=158'>159</a>\u001b[0m                                back_adjust\u001b[39m=\u001b[39mback_adjust, repair\u001b[39m=\u001b[39mrepair, keepna\u001b[39m=\u001b[39mkeepna,\n\u001b[1;32m    <a href='file:///Library/Frameworks/Python.framework/Versions/3.9/lib/python3.9/site-packages/yfinance/multi.py?line=159'>160</a>\u001b[0m                                progress\u001b[39m=\u001b[39m(progress \u001b[39mand\u001b[39;00m i \u001b[39m>\u001b[39m \u001b[39m0\u001b[39m), proxy\u001b[39m=\u001b[39mproxy,\n\u001b[1;32m    <a href='file:///Library/Frameworks/Python.framework/Versions/3.9/lib/python3.9/site-packages/yfinance/multi.py?line=160'>161</a>\u001b[0m                                rounding\u001b[39m=\u001b[39mrounding, timeout\u001b[39m=\u001b[39mtimeout)\n\u001b[1;32m    <a href='file:///Library/Frameworks/Python.framework/Versions/3.9/lib/python3.9/site-packages/yfinance/multi.py?line=161'>162</a>\u001b[0m     \u001b[39mwhile\u001b[39;00m \u001b[39mlen\u001b[39m(shared\u001b[39m.\u001b[39m_DFS) \u001b[39m<\u001b[39m \u001b[39mlen\u001b[39m(tickers):\n\u001b[0;32m--> <a href='file:///Library/Frameworks/Python.framework/Versions/3.9/lib/python3.9/site-packages/yfinance/multi.py?line=162'>163</a>\u001b[0m         _time\u001b[39m.\u001b[39;49msleep(\u001b[39m0.01\u001b[39;49m)\n\u001b[1;32m    <a href='file:///Library/Frameworks/Python.framework/Versions/3.9/lib/python3.9/site-packages/yfinance/multi.py?line=163'>164</a>\u001b[0m \u001b[39m# download synchronously\u001b[39;00m\n\u001b[1;32m    <a href='file:///Library/Frameworks/Python.framework/Versions/3.9/lib/python3.9/site-packages/yfinance/multi.py?line=164'>165</a>\u001b[0m \u001b[39melse\u001b[39;00m:\n\u001b[1;32m    <a href='file:///Library/Frameworks/Python.framework/Versions/3.9/lib/python3.9/site-packages/yfinance/multi.py?line=165'>166</a>\u001b[0m     \u001b[39mfor\u001b[39;00m i, ticker \u001b[39min\u001b[39;00m \u001b[39menumerate\u001b[39m(tickers):\n",
      "\u001b[0;31mKeyboardInterrupt\u001b[0m: "
     ]
    }
   ],
   "source": [
    "date_index = pd.date_range(start='2013-01-01', end='2023-11-21', freq='D')\n",
    "\n",
    "# Create an empty DataFrame with the datetime index\n",
    "empty_df = pd.DataFrame(index=date_index)\n",
    "empty_df['offvalue']=1\n",
    "dfs=[empty_df]\n",
    "for symbol in US_stocks_tickets:\n",
    "\n",
    "# Make API request\n",
    "    data = pd.DataFrame(yf.download(symbol, start='2013-01-01', end='2023-11-21', interval='1d'))\n",
    "    if not data.empty:\n",
    "        df=data.rename(columns={'Adj Close':f'{symbol}'})\n",
    "        df=df[f'{symbol}']\n",
    "        dfs+=[df]\n",
    "    else:\n",
    "        pass\n",
    "        \n",
    "\n",
    "from functools import reduce\n",
    "stocks_closes_data = reduce(lambda df1,df2: pd.merge(df1,df2,left_index=True,right_index=True, how='outer'), dfs)\n",
    "stocks_closes_data=stocks_closes_data.drop('offvalue',axis=1)\n",
    "null_values=pd.DataFrame(stocks_closes_data.isnull().sum())\n",
    "columns_no_null=null_values[null_values[0]<1300].index\n",
    "\n",
    "final_stocks_closes_data=stocks_closes_data[columns_no_null]\n",
    "final_stocks_closes_data=final_stocks_closes_data.dropna(axis = 0, how = 'all')\n",
    "final_stocks_closes_data\n",
    "final_stocks_closes_data.to_csv('/Users/elbezaharon/Desktop/3A ENSAE/AML/Project/Data/US_stocks_full_data.csv',index=False)\n",
    "final_stocks_closes_data.head()"
   ]
  },
  {
   "cell_type": "code",
   "execution_count": 6,
   "metadata": {},
   "outputs": [],
   "source": [
    "import pandas as pd\n",
    "from sklearn.model_selection import train_test_split\n",
    "final_stocks_closes_data=pd.read_csv('/Users/elbezaharon/Desktop/3A ENSAE/AML/Project/Data/US_stocks_full_data.csv',index_col=0)\n",
    "null_values=pd.DataFrame(final_stocks_closes_data.isnull().sum())\n",
    "columns_no_null=null_values[null_values[0]<1300].index\n",
    "\n",
    "\n",
    "\n",
    "returns_data=final_stocks_closes_data.sort_index().pct_change().dropna()[:100]\n",
    "reshaped_returns = pd.melt(returns_data.reset_index(), id_vars='index', var_name='Stock', value_name='return')\n",
    "reshaped_returns=reshaped_returns.rename(columns={'index':'Date'})\n",
    "reshaped_returns['rank']=reshaped_returns.groupby('Date')['return'].rank()\n",
    "\n",
    "X=reshaped_returns.drop('rank',axis=1)\n",
    "y=reshaped_returns['rank']\n",
    "X_train, X_test, y_train, y_test = train_test_split(X, y, test_size=0.33, random_state=42)\n"
   ]
  },
  {
   "cell_type": "code",
   "execution_count": 1,
   "metadata": {},
   "outputs": [
    {
     "name": "stderr",
     "output_type": "stream",
     "text": [
      "/var/folders/gf/shnqljgn16z6q38qcsr75kwm0000gn/T/ipykernel_12346/3416969910.py:30: RuntimeWarning: overflow encountered in exp\n",
      "  gradient = np.sum((1 / (1 + np.exp(y_pred - y_pred[:, None]))) - S_ij, axis=1)\n",
      "/var/folders/gf/shnqljgn16z6q38qcsr75kwm0000gn/T/ipykernel_12346/3416969910.py:30: RuntimeWarning: overflow encountered in exp\n",
      "  gradient = np.sum((1 / (1 + np.exp(y_pred - y_pred[:, None]))) - S_ij, axis=1)\n",
      "/var/folders/gf/shnqljgn16z6q38qcsr75kwm0000gn/T/ipykernel_12346/3416969910.py:30: RuntimeWarning: overflow encountered in exp\n",
      "  gradient = np.sum((1 / (1 + np.exp(y_pred - y_pred[:, None]))) - S_ij, axis=1)\n",
      "/var/folders/gf/shnqljgn16z6q38qcsr75kwm0000gn/T/ipykernel_12346/3416969910.py:30: RuntimeWarning: overflow encountered in exp\n",
      "  gradient = np.sum((1 / (1 + np.exp(y_pred - y_pred[:, None]))) - S_ij, axis=1)\n",
      "/var/folders/gf/shnqljgn16z6q38qcsr75kwm0000gn/T/ipykernel_12346/3416969910.py:30: RuntimeWarning: overflow encountered in exp\n",
      "  gradient = np.sum((1 / (1 + np.exp(y_pred - y_pred[:, None]))) - S_ij, axis=1)\n",
      "/var/folders/gf/shnqljgn16z6q38qcsr75kwm0000gn/T/ipykernel_12346/3416969910.py:30: RuntimeWarning: overflow encountered in exp\n",
      "  gradient = np.sum((1 / (1 + np.exp(y_pred - y_pred[:, None]))) - S_ij, axis=1)\n",
      "/var/folders/gf/shnqljgn16z6q38qcsr75kwm0000gn/T/ipykernel_12346/3416969910.py:30: RuntimeWarning: overflow encountered in exp\n",
      "  gradient = np.sum((1 / (1 + np.exp(y_pred - y_pred[:, None]))) - S_ij, axis=1)\n"
     ]
    }
   ],
   "source": [
    "import numpy as np\n",
    "from tqdm import tqdm\n",
    "from sklearn.tree import DecisionTreeRegressor\n",
    "from sklearn.model_selection import train_test_split\n",
    "import pandas as pd\n",
    "\n",
    "\n",
    "final_stocks_closes_data=pd.read_csv('/Users/elbezaharon/Desktop/3A ENSAE/AML/Project/Data/US_stocks_full_data.csv',index_col=0)\n",
    "null_values=pd.DataFrame(final_stocks_closes_data.isnull().sum())\n",
    "columns_no_null=null_values[null_values[0]<1300].index\n",
    "\n",
    "final_stocks_closes_data=final_stocks_closes_data[columns_no_null]\n",
    "final_stocks_closes_data=final_stocks_closes_data.dropna(axis = 0, how = 'all')\n",
    "final_stocks_closes_data\n",
    "\n",
    "\n",
    "returns_data=final_stocks_closes_data.sort_index().pct_change().dropna()[:100]\n",
    "reshaped_returns = pd.melt(returns_data.reset_index(), id_vars='index', var_name='Stock', value_name='return')\n",
    "reshaped_returns=reshaped_returns.rename(columns={'index':'Date'})\n",
    "reshaped_returns['rank']=reshaped_returns.groupby('Date')['return'].rank()\n",
    "\n",
    "\n",
    "learning_rate = 0.1\n",
    "\n",
    "def sigmoid(x):\n",
    "    return 1 / (1 + np.exp(-x))\n",
    "\n",
    "def lambda_loss_gradient(y_true, y_pred, p_lambda, delta=1.0):\n",
    "    S_ij = np.sign(y_true.values.flatten()[:, None] - y_true.values.flatten())\n",
    "    gradient = np.sum((1 / (1 + np.exp(y_pred - y_pred[:, None]))) - S_ij, axis=1)\n",
    "    return gradient\n",
    "\n",
    "def lambda_mart(X_train, y_train, num_trees=10, learning_rate=0.1):\n",
    "    n = len(y_train)\n",
    "    trees = []\n",
    "\n",
    "    p_lambda = np.sign(y_train.values[:, None] - y_train.values)\n",
    "\n",
    "    scores = np.zeros(n)\n",
    "\n",
    "    for _ in range(num_trees):\n",
    "        gradient = lambda_loss_gradient(y_train, scores, p_lambda)\n",
    "\n",
    "        tree = DecisionTreeRegressor(max_depth=3)\n",
    "        tree.fit(X_train, -gradient)\n",
    "\n",
    "        scores += learning_rate * tree.predict(X_train)\n",
    "        trees.append(tree)\n",
    "\n",
    "    return trees\n",
    "\n",
    "# Example usage:\n",
    "\n",
    "X=reshaped_returns.drop('rank',axis=1)\n",
    "y=reshaped_returns['rank']\n",
    "X_train, X_test, y_train, y_test = train_test_split(X, y, test_size=0.33, random_state=42)\n",
    "\n",
    "X_train_encoded = pd.get_dummies(X_train)\n",
    "X_test_encoded=pd.get_dummies(X_test)\n",
    "# Train LambdaMART\n",
    "ensemble = lambda_mart(X_train_encoded, y_train)\n",
    "\n",
    "# Make predictions on new data\n",
    "def predict_lambda_mart(ensemble, X):\n",
    "    return np.sum(learning_rate * tree.predict(X) for tree in ensemble)\n",
    "\n",
    "# Example usage:\n",
    "predictions = [predict_lambda_mart(ensemble, x.reshape(1, -1)) for x in X_test_encoded.values]\n",
    "print(predictions)\n"
   ]
  },
  {
   "cell_type": "code",
   "execution_count": null,
   "metadata": {},
   "outputs": [],
   "source": [
    "from sklearn.metrics import accuracy_score\n",
    "\n",
    "X_test['Pred']=predictions\n",
    "X_test['Pred_rank']=X_test.groupby(\"Date\")['Pred'].rank()\n",
    "accuracy_score(X_test['Pred_rank'].astype(int),y_test.astype(int))"
   ]
  },
  {
   "cell_type": "code",
   "execution_count": 32,
   "metadata": {},
   "outputs": [
    {
     "data": {
      "text/html": [
       "<div>\n",
       "<style scoped>\n",
       "    .dataframe tbody tr th:only-of-type {\n",
       "        vertical-align: middle;\n",
       "    }\n",
       "\n",
       "    .dataframe tbody tr th {\n",
       "        vertical-align: top;\n",
       "    }\n",
       "\n",
       "    .dataframe thead th {\n",
       "        text-align: right;\n",
       "    }\n",
       "</style>\n",
       "<table border=\"1\" class=\"dataframe\">\n",
       "  <thead>\n",
       "    <tr style=\"text-align: right;\">\n",
       "      <th></th>\n",
       "      <th>Date</th>\n",
       "      <th>Stock</th>\n",
       "      <th>return</th>\n",
       "      <th>Pred</th>\n",
       "      <th>Pred_rank</th>\n",
       "    </tr>\n",
       "  </thead>\n",
       "  <tbody>\n",
       "    <tr>\n",
       "      <th>36506</th>\n",
       "      <td>2013-02-12</td>\n",
       "      <td>TFC</td>\n",
       "      <td>-0.000979</td>\n",
       "      <td>[5762.705218117304]</td>\n",
       "      <td>72.5</td>\n",
       "    </tr>\n",
       "    <tr>\n",
       "      <th>2265</th>\n",
       "      <td>2013-05-08</td>\n",
       "      <td>AME</td>\n",
       "      <td>0.013353</td>\n",
       "      <td>[3961.2861079219288]</td>\n",
       "      <td>22.0</td>\n",
       "    </tr>\n",
       "    <tr>\n",
       "      <th>30324</th>\n",
       "      <td>2013-03-11</td>\n",
       "      <td>PKX</td>\n",
       "      <td>-0.008026</td>\n",
       "      <td>[6352.605704264353]</td>\n",
       "      <td>106.5</td>\n",
       "    </tr>\n",
       "    <tr>\n",
       "      <th>7481</th>\n",
       "      <td>2013-05-31</td>\n",
       "      <td>CCEP</td>\n",
       "      <td>-0.014847</td>\n",
       "      <td>[6961.4303965863455]</td>\n",
       "      <td>71.0</td>\n",
       "    </tr>\n",
       "    <tr>\n",
       "      <th>30545</th>\n",
       "      <td>2013-04-10</td>\n",
       "      <td>PM</td>\n",
       "      <td>0.007616</td>\n",
       "      <td>[5190.989945329214]</td>\n",
       "      <td>113.5</td>\n",
       "    </tr>\n",
       "    <tr>\n",
       "      <th>...</th>\n",
       "      <td>...</td>\n",
       "      <td>...</td>\n",
       "      <td>...</td>\n",
       "      <td>...</td>\n",
       "      <td>...</td>\n",
       "    </tr>\n",
       "    <tr>\n",
       "      <th>912</th>\n",
       "      <td>2013-02-21</td>\n",
       "      <td>ADM</td>\n",
       "      <td>-0.012000</td>\n",
       "      <td>[6961.4303965863455]</td>\n",
       "      <td>89.0</td>\n",
       "    </tr>\n",
       "    <tr>\n",
       "      <th>22599</th>\n",
       "      <td>2013-06-26</td>\n",
       "      <td>LMT</td>\n",
       "      <td>0.020256</td>\n",
       "      <td>[3229.8567285908475]</td>\n",
       "      <td>9.5</td>\n",
       "    </tr>\n",
       "    <tr>\n",
       "      <th>9302</th>\n",
       "      <td>2013-02-06</td>\n",
       "      <td>COP</td>\n",
       "      <td>-0.002252</td>\n",
       "      <td>[6352.605704264353]</td>\n",
       "      <td>116.5</td>\n",
       "    </tr>\n",
       "    <tr>\n",
       "      <th>14710</th>\n",
       "      <td>2013-02-19</td>\n",
       "      <td>ETN</td>\n",
       "      <td>0.010186</td>\n",
       "      <td>[4593.571553784861]</td>\n",
       "      <td>45.5</td>\n",
       "    </tr>\n",
       "    <tr>\n",
       "      <th>26865</th>\n",
       "      <td>2013-05-08</td>\n",
       "      <td>NEM</td>\n",
       "      <td>0.044992</td>\n",
       "      <td>[3229.8567285908475]</td>\n",
       "      <td>7.5</td>\n",
       "    </tr>\n",
       "  </tbody>\n",
       "</table>\n",
       "<p>14025 rows × 5 columns</p>\n",
       "</div>"
      ],
      "text/plain": [
       "             Date Stock    return                  Pred  Pred_rank\n",
       "36506  2013-02-12   TFC -0.000979   [5762.705218117304]       72.5\n",
       "2265   2013-05-08   AME  0.013353  [3961.2861079219288]       22.0\n",
       "30324  2013-03-11   PKX -0.008026   [6352.605704264353]      106.5\n",
       "7481   2013-05-31  CCEP -0.014847  [6961.4303965863455]       71.0\n",
       "30545  2013-04-10    PM  0.007616   [5190.989945329214]      113.5\n",
       "...           ...   ...       ...                   ...        ...\n",
       "912    2013-02-21   ADM -0.012000  [6961.4303965863455]       89.0\n",
       "22599  2013-06-26   LMT  0.020256  [3229.8567285908475]        9.5\n",
       "9302   2013-02-06   COP -0.002252   [6352.605704264353]      116.5\n",
       "14710  2013-02-19   ETN  0.010186   [4593.571553784861]       45.5\n",
       "26865  2013-05-08   NEM  0.044992  [3229.8567285908475]        7.5\n",
       "\n",
       "[14025 rows x 5 columns]"
      ]
     },
     "execution_count": 32,
     "metadata": {},
     "output_type": "execute_result"
    }
   ],
   "source": [
    "X_test"
   ]
  },
  {
   "cell_type": "code",
   "execution_count": 41,
   "metadata": {},
   "outputs": [
    {
     "data": {
      "text/plain": [
       "0.0019251336898395723"
      ]
     },
     "execution_count": 41,
     "metadata": {},
     "output_type": "execute_result"
    }
   ],
   "source": []
  },
  {
   "cell_type": "code",
   "execution_count": 40,
   "metadata": {},
   "outputs": [
    {
     "data": {
      "text/plain": [
       "0.0019251336898395723"
      ]
     },
     "execution_count": 40,
     "metadata": {},
     "output_type": "execute_result"
    }
   ],
   "source": [
    "accuracy_score(X_test['Pred_rank'].astype(int),y_test.astype(int))"
   ]
  },
  {
   "cell_type": "code",
   "execution_count": null,
   "metadata": {},
   "outputs": [],
   "source": []
  }
 ],
 "metadata": {
  "interpreter": {
   "hash": "aee8b7b246df8f9039afb4144a1f6fd8d2ca17a180786b69acc140d282b71a49"
  },
  "kernelspec": {
   "display_name": "Python 3.9.10 64-bit",
   "language": "python",
   "name": "python3"
  },
  "language_info": {
   "codemirror_mode": {
    "name": "ipython",
    "version": 3
   },
   "file_extension": ".py",
   "mimetype": "text/x-python",
   "name": "python",
   "nbconvert_exporter": "python",
   "pygments_lexer": "ipython3",
   "version": "3.9.10"
  },
  "orig_nbformat": 4
 },
 "nbformat": 4,
 "nbformat_minor": 2
}
